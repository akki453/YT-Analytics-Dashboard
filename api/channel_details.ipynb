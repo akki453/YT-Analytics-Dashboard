{
 "cells": [
  {
   "cell_type": "code",
   "execution_count": null,
   "id": "bb3815ab",
   "metadata": {},
   "outputs": [],
   "source": [
    "from googleapiclient.discovery import build\n",
    "\n",
    "api_key = 'API_KEY'\n",
    "youtube = build('youtube', 'v3', developerKey=api_key)\n",
    "\n",
    "def get_channel_metadata_by_keyword(keyword):\n",
    "    # Step 1: Search for the channel by keyword\n",
    "    search_response = youtube.search().list(\n",
    "        part='snippet',\n",
    "        q=keyword,\n",
    "        type='channel',\n",
    "        maxResults=1\n",
    "    ).execute()\n",
    "\n",
    "    if not search_response['items']:\n",
    "        print(\"❌ No channel found.\")\n",
    "        return None\n",
    "\n",
    "    channel_id = search_response['items'][0]['snippet']['channelId']\n",
    "\n",
    "    # Step 2: Get channel statistics and metadata\n",
    "    channel_response = youtube.channels().list(\n",
    "        part='snippet,statistics',\n",
    "        id=channel_id\n",
    "    ).execute()\n",
    "\n",
    "    if not channel_response['items']:\n",
    "        print(\"❌ Channel data could not be retrieved.\")\n",
    "        return None\n",
    "\n",
    "    channel = channel_response['items'][0]\n",
    "    snippet = channel['snippet']\n",
    "    stats = channel['statistics']\n",
    "\n",
    "    metadata = {\n",
    "        'channel_id': channel_id,\n",
    "        'title': snippet.get('title'),\n",
    "        'description': snippet.get('description'),\n",
    "        'published_at': snippet.get('publishedAt'),\n",
    "        'country': snippet.get('country', 'N/A'),\n",
    "        'subscriber_count': int(stats.get('subscriberCount', 0)),\n",
    "        'video_count': int(stats.get('videoCount', 0)),\n",
    "        'view_count': int(stats.get('viewCount', 0)),\n",
    "        'channel_url': f\"https://www.youtube.com/channel/{channel_id}\"\n",
    "    }\n",
    "\n",
    "    return metadata\n",
    "\n",
    "# === Usage ===\n",
    "keyword = \"MrBeast\"  # Replace with your desired search keyword\n",
    "metadata = get_channel_metadata_by_keyword(keyword)\n",
    "\n",
    "if metadata:\n",
    "    metadata\n"
   ]
  },
  {
   "cell_type": "code",
   "execution_count": 43,
   "id": "3dcd1ada",
   "metadata": {},
   "outputs": [
    {
     "data": {
      "text/plain": [
       "{'channel_id': 'UCX6OQ3DkcsbYNE6H8uQQuVA',\n",
       " 'title': 'MrBeast',\n",
       " 'description': \"SUBSCRIBE FOR A COOKIE!\\nNew MrBeast or MrBeast Gaming video every single Saturday at noon eastern time!\\nAccomplishments:\\n- Raised $20,000,000 To Plant 20,000,000 Trees\\n- Removed 30,000,000 pounds of trash from the ocean\\n- Helped 2,000 people walk again\\n- Helped 1,000 blind people see\\n- Helped 1,000 deaf people hear\\n- Built wells in Africa\\n- Built and gave away 100 houses\\n- Adopted every dog in a shelter (twice)\\n- Given millions to charity\\n- Started my own snack company Feastables\\n- Started my own software company Viewstats\\n- Started Lunchly, a tasty, better-for-you lunch option\\n- Gave away a private island (twice)\\n- Gave away 1 million meals\\n- I counted to 100k\\n- Ran a marathon in the world's largest shoes\\n- Survived 50 hours in Antarctica\\n- Recreated Squid Game in real life\\n- Created the largest competition show with 1000 people (Beast Games)\\n- Gave $5,000,000 to one person\\n- Passed T-Series to become most subscribed YouTube channel 🥹\\nyou get it, I appreciate all of you so much :)\\n\",\n",
       " 'published_at': '2012-02-20T00:43:50Z',\n",
       " 'country': 'US',\n",
       " 'subscriber_count': 412000000,\n",
       " 'video_count': 883,\n",
       " 'view_count': 89644930751,\n",
       " 'channel_url': 'https://www.youtube.com/channel/UCX6OQ3DkcsbYNE6H8uQQuVA'}"
      ]
     },
     "execution_count": 43,
     "metadata": {},
     "output_type": "execute_result"
    }
   ],
   "source": [
    "metadata"
   ]
  },
  {
   "cell_type": "code",
   "execution_count": 44,
   "id": "9577ca1c",
   "metadata": {},
   "outputs": [
    {
     "data": {
      "text/plain": [
       "dict"
      ]
     },
     "execution_count": 44,
     "metadata": {},
     "output_type": "execute_result"
    }
   ],
   "source": [
    "type(metadata)"
   ]
  },
  {
   "cell_type": "code",
   "execution_count": 45,
   "id": "7e042e12",
   "metadata": {},
   "outputs": [
    {
     "data": {
      "text/plain": [
       "int"
      ]
     },
     "execution_count": 45,
     "metadata": {},
     "output_type": "execute_result"
    }
   ],
   "source": [
    "type(metadata['view_count'])"
   ]
  },
  {
   "cell_type": "code",
   "execution_count": 46,
   "id": "4d0364df",
   "metadata": {},
   "outputs": [],
   "source": [
    "metadata['avg_views']=round(metadata['view_count']/metadata['video_count'])"
   ]
  },
  {
   "cell_type": "code",
   "execution_count": 47,
   "id": "e02d9577",
   "metadata": {},
   "outputs": [
    {
     "data": {
      "text/plain": [
       "{'channel_id': 'UCX6OQ3DkcsbYNE6H8uQQuVA',\n",
       " 'title': 'MrBeast',\n",
       " 'description': \"SUBSCRIBE FOR A COOKIE!\\nNew MrBeast or MrBeast Gaming video every single Saturday at noon eastern time!\\nAccomplishments:\\n- Raised $20,000,000 To Plant 20,000,000 Trees\\n- Removed 30,000,000 pounds of trash from the ocean\\n- Helped 2,000 people walk again\\n- Helped 1,000 blind people see\\n- Helped 1,000 deaf people hear\\n- Built wells in Africa\\n- Built and gave away 100 houses\\n- Adopted every dog in a shelter (twice)\\n- Given millions to charity\\n- Started my own snack company Feastables\\n- Started my own software company Viewstats\\n- Started Lunchly, a tasty, better-for-you lunch option\\n- Gave away a private island (twice)\\n- Gave away 1 million meals\\n- I counted to 100k\\n- Ran a marathon in the world's largest shoes\\n- Survived 50 hours in Antarctica\\n- Recreated Squid Game in real life\\n- Created the largest competition show with 1000 people (Beast Games)\\n- Gave $5,000,000 to one person\\n- Passed T-Series to become most subscribed YouTube channel 🥹\\nyou get it, I appreciate all of you so much :)\\n\",\n",
       " 'published_at': '2012-02-20T00:43:50Z',\n",
       " 'country': 'US',\n",
       " 'subscriber_count': 412000000,\n",
       " 'video_count': 883,\n",
       " 'view_count': 89644930751,\n",
       " 'channel_url': 'https://www.youtube.com/channel/UCX6OQ3DkcsbYNE6H8uQQuVA',\n",
       " 'avg_views': 101523138}"
      ]
     },
     "execution_count": 47,
     "metadata": {},
     "output_type": "execute_result"
    }
   ],
   "source": [
    "metadata"
   ]
  },
  {
   "cell_type": "code",
   "execution_count": 48,
   "id": "ef7105c8",
   "metadata": {},
   "outputs": [],
   "source": [
    "import pandas as pd"
   ]
  },
  {
   "cell_type": "code",
   "execution_count": 49,
   "id": "f364043a",
   "metadata": {},
   "outputs": [],
   "source": [
    "data=[metadata]"
   ]
  },
  {
   "cell_type": "code",
   "execution_count": 50,
   "id": "3c36398c",
   "metadata": {},
   "outputs": [],
   "source": [
    "df=pd.DataFrame(data)"
   ]
  },
  {
   "cell_type": "code",
   "execution_count": 51,
   "id": "6342303d",
   "metadata": {},
   "outputs": [
    {
     "data": {
      "text/html": [
       "<div>\n",
       "<style scoped>\n",
       "    .dataframe tbody tr th:only-of-type {\n",
       "        vertical-align: middle;\n",
       "    }\n",
       "\n",
       "    .dataframe tbody tr th {\n",
       "        vertical-align: top;\n",
       "    }\n",
       "\n",
       "    .dataframe thead th {\n",
       "        text-align: right;\n",
       "    }\n",
       "</style>\n",
       "<table border=\"1\" class=\"dataframe\">\n",
       "  <thead>\n",
       "    <tr style=\"text-align: right;\">\n",
       "      <th></th>\n",
       "      <th>channel_id</th>\n",
       "      <th>title</th>\n",
       "      <th>description</th>\n",
       "      <th>published_at</th>\n",
       "      <th>country</th>\n",
       "      <th>subscriber_count</th>\n",
       "      <th>video_count</th>\n",
       "      <th>view_count</th>\n",
       "      <th>channel_url</th>\n",
       "      <th>avg_views</th>\n",
       "    </tr>\n",
       "  </thead>\n",
       "  <tbody>\n",
       "    <tr>\n",
       "      <th>0</th>\n",
       "      <td>UCX6OQ3DkcsbYNE6H8uQQuVA</td>\n",
       "      <td>MrBeast</td>\n",
       "      <td>SUBSCRIBE FOR A COOKIE!\\nNew MrBeast or MrBeas...</td>\n",
       "      <td>2012-02-20T00:43:50Z</td>\n",
       "      <td>US</td>\n",
       "      <td>412000000</td>\n",
       "      <td>883</td>\n",
       "      <td>89644930751</td>\n",
       "      <td>https://www.youtube.com/channel/UCX6OQ3DkcsbYN...</td>\n",
       "      <td>101523138</td>\n",
       "    </tr>\n",
       "  </tbody>\n",
       "</table>\n",
       "</div>"
      ],
      "text/plain": [
       "                 channel_id    title  \\\n",
       "0  UCX6OQ3DkcsbYNE6H8uQQuVA  MrBeast   \n",
       "\n",
       "                                         description          published_at  \\\n",
       "0  SUBSCRIBE FOR A COOKIE!\\nNew MrBeast or MrBeas...  2012-02-20T00:43:50Z   \n",
       "\n",
       "  country  subscriber_count  video_count   view_count  \\\n",
       "0      US         412000000          883  89644930751   \n",
       "\n",
       "                                         channel_url  avg_views  \n",
       "0  https://www.youtube.com/channel/UCX6OQ3DkcsbYN...  101523138  "
      ]
     },
     "execution_count": 51,
     "metadata": {},
     "output_type": "execute_result"
    }
   ],
   "source": [
    "df"
   ]
  },
  {
   "cell_type": "code",
   "execution_count": 52,
   "id": "940484fa",
   "metadata": {},
   "outputs": [],
   "source": [
    "df['published_at']=df['published_at'].astype('string')"
   ]
  },
  {
   "cell_type": "code",
   "execution_count": 53,
   "id": "3f337dbb",
   "metadata": {},
   "outputs": [],
   "source": [
    "df['published_at']=df['published_at'].str[0:10]"
   ]
  },
  {
   "cell_type": "code",
   "execution_count": 54,
   "id": "dd7deaa8",
   "metadata": {},
   "outputs": [
    {
     "data": {
      "text/html": [
       "<div>\n",
       "<style scoped>\n",
       "    .dataframe tbody tr th:only-of-type {\n",
       "        vertical-align: middle;\n",
       "    }\n",
       "\n",
       "    .dataframe tbody tr th {\n",
       "        vertical-align: top;\n",
       "    }\n",
       "\n",
       "    .dataframe thead th {\n",
       "        text-align: right;\n",
       "    }\n",
       "</style>\n",
       "<table border=\"1\" class=\"dataframe\">\n",
       "  <thead>\n",
       "    <tr style=\"text-align: right;\">\n",
       "      <th></th>\n",
       "      <th>channel_id</th>\n",
       "      <th>title</th>\n",
       "      <th>description</th>\n",
       "      <th>published_at</th>\n",
       "      <th>country</th>\n",
       "      <th>subscriber_count</th>\n",
       "      <th>video_count</th>\n",
       "      <th>view_count</th>\n",
       "      <th>channel_url</th>\n",
       "      <th>avg_views</th>\n",
       "    </tr>\n",
       "  </thead>\n",
       "  <tbody>\n",
       "    <tr>\n",
       "      <th>0</th>\n",
       "      <td>UCX6OQ3DkcsbYNE6H8uQQuVA</td>\n",
       "      <td>MrBeast</td>\n",
       "      <td>SUBSCRIBE FOR A COOKIE!\\nNew MrBeast or MrBeas...</td>\n",
       "      <td>2012-02-20</td>\n",
       "      <td>US</td>\n",
       "      <td>412000000</td>\n",
       "      <td>883</td>\n",
       "      <td>89644930751</td>\n",
       "      <td>https://www.youtube.com/channel/UCX6OQ3DkcsbYN...</td>\n",
       "      <td>101523138</td>\n",
       "    </tr>\n",
       "  </tbody>\n",
       "</table>\n",
       "</div>"
      ],
      "text/plain": [
       "                 channel_id    title  \\\n",
       "0  UCX6OQ3DkcsbYNE6H8uQQuVA  MrBeast   \n",
       "\n",
       "                                         description published_at country  \\\n",
       "0  SUBSCRIBE FOR A COOKIE!\\nNew MrBeast or MrBeas...   2012-02-20      US   \n",
       "\n",
       "   subscriber_count  video_count   view_count  \\\n",
       "0         412000000          883  89644930751   \n",
       "\n",
       "                                         channel_url  avg_views  \n",
       "0  https://www.youtube.com/channel/UCX6OQ3DkcsbYN...  101523138  "
      ]
     },
     "execution_count": 54,
     "metadata": {},
     "output_type": "execute_result"
    }
   ],
   "source": [
    "df"
   ]
  },
  {
   "cell_type": "code",
   "execution_count": 55,
   "id": "ac2d98cf",
   "metadata": {},
   "outputs": [
    {
     "data": {
      "text/plain": [
       "channel_id                  object\n",
       "title                       object\n",
       "description                 object\n",
       "published_at        string[python]\n",
       "country                     object\n",
       "subscriber_count             int64\n",
       "video_count                  int64\n",
       "view_count                   int64\n",
       "channel_url                 object\n",
       "avg_views                    int64\n",
       "dtype: object"
      ]
     },
     "execution_count": 55,
     "metadata": {},
     "output_type": "execute_result"
    }
   ],
   "source": [
    "df.dtypes"
   ]
  },
  {
   "cell_type": "code",
   "execution_count": 56,
   "id": "af92ce90",
   "metadata": {},
   "outputs": [],
   "source": [
    "df['published_at'] = pd.to_datetime(df['published_at']).dt.date\n"
   ]
  },
  {
   "cell_type": "code",
   "execution_count": 64,
   "id": "f02c5427",
   "metadata": {},
   "outputs": [],
   "source": [
    "\n",
    "from sqlalchemy import create_engine\n",
    "import urllib.parse\n",
    "from sqlalchemy import text\n",
    "import sqlalchemy\n"
   ]
  },
  {
   "cell_type": "code",
   "execution_count": 1,
   "id": "de1a6668",
   "metadata": {},
   "outputs": [
    {
     "name": "stdout",
     "output_type": "stream",
     "text": [
      "3,5,9,12,10,6,6,12,11,10,1,12,10,2,1,1,4,11,4,6,3,4,12,3,9,1,10,9,10,1,2,7,3,3,4,2,6,6,10,2,10,2,2,10,10,7,13,13,12,13,6,13,3,5,9,12,11,13,2,5,8,11,5,3,3,12,6,1,1,7,8,8,1,3,11,9,13,12,5,10,6,10,6,5,13,5,1,4,13,7,7,2,10,7,4,8,7,4,8,3,11,12,10,8,7,1,1,9,2,2,8,12,4,12,4,13,9,8,1,5,10,6,5,9,12,9,6,6,1,11,12,3,1,5,8,2,4,7,2,13,13,2,5,9,3,1,6,13,1,7\n"
     ]
    }
   ],
   "source": [
    "import random\n",
    "\n",
    "# Generate 150 random numbers from 1 to 13\n",
    "numbers = [random.randint(1, 13) for _ in range(150)]\n",
    "\n",
    "# Print as comma-separated values (no spaces)\n",
    "print(','.join(map(str, numbers)))\n"
   ]
  },
  {
   "cell_type": "code",
   "execution_count": null,
   "id": "18126d87",
   "metadata": {},
   "outputs": [
    {
     "data": {
      "text/plain": [
       "1"
      ]
     },
     "execution_count": 65,
     "metadata": {},
     "output_type": "execute_result"
    },
    {
     "ename": "",
     "evalue": "",
     "output_type": "error",
     "traceback": [
      "\u001b[1;31mThe Kernel crashed while executing code in the current cell or a previous cell. \n",
      "\u001b[1;31mPlease review the code in the cell(s) to identify a possible cause of the failure. \n",
      "\u001b[1;31mClick <a href='https://aka.ms/vscodeJupyterKernelCrash'>here</a> for more info. \n",
      "\u001b[1;31mView Jupyter <a href='command:jupyter.viewOutput'>log</a> for further details."
     ]
    }
   ],
   "source": [
    "\n",
    "user = 'postgres'\n",
    "password = urllib.parse.quote_plus('Xboxone@453')\n",
    "host = 'db.nvfpprsugnjzhplxdqld.supabase.co'\n",
    "port = 5432\n",
    "db = 'postgres'\n",
    "\n",
    "engine = create_engine(\n",
    "    f'postgresql+psycopg2://{user}:{password}@{host}:{port}/{db}'\n",
    ")\n",
    "with engine.connect() as conn:\n",
    "    conn.execute(text(\"TRUNCATE TABLE videos, channels;\"))\n",
    "\n",
    "df.to_sql('channels', engine, if_exists='append', index=False, dtype={\n",
    "    'channel_id': sqlalchemy.types.String,\n",
    "    'title': sqlalchemy.types.String,\n",
    "    'description': sqlalchemy.types.String,\n",
    "    'published_at': sqlalchemy.types.Date,\n",
    "    'country': sqlalchemy.types.String,\n",
    "    'subscriber_count': sqlalchemy.types.BigInteger,\n",
    "    'video_count': sqlalchemy.types.BigInteger,\n",
    "    'view_count': sqlalchemy.types.BigInteger,\n",
    "    'channel_url': sqlalchemy.types.String,\n",
    "    'avg_views': sqlalchemy.types.BigInteger\n",
    "})"
   ]
  }
 ],
 "metadata": {
  "kernelspec": {
   "display_name": "Python 3",
   "language": "python",
   "name": "python3"
  },
  "language_info": {
   "codemirror_mode": {
    "name": "ipython",
    "version": 3
   },
   "file_extension": ".py",
   "mimetype": "text/x-python",
   "name": "python",
   "nbconvert_exporter": "python",
   "pygments_lexer": "ipython3",
   "version": "3.11.2"
  }
 },
 "nbformat": 4,
 "nbformat_minor": 5
}
